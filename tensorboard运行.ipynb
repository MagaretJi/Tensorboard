{
 "cells": [
  {
   "cell_type": "code",
   "execution_count": 1,
   "metadata": {},
   "outputs": [],
   "source": [
    "import tensorflow as tf\n",
    "import numpy as np\n",
    "from tensorflow.examples.tutorials.mnist import input_data"
   ]
  },
  {
   "cell_type": "markdown",
   "metadata": {},
   "source": [
    "#### 数据集准备"
   ]
  },
  {
   "cell_type": "code",
   "execution_count": 2,
   "metadata": {
    "scrolled": true
   },
   "outputs": [
    {
     "name": "stdout",
     "output_type": "stream",
     "text": [
      "WARNING:tensorflow:From <ipython-input-2-0eda2f9c2d4a>:1: read_data_sets (from tensorflow.contrib.learn.python.learn.datasets.mnist) is deprecated and will be removed in a future version.\n",
      "Instructions for updating:\n",
      "Please use alternatives such as official/mnist/dataset.py from tensorflow/models.\n",
      "WARNING:tensorflow:From C:\\software\\anaconda\\envs\\new enviroment name\\lib\\site-packages\\tensorflow\\contrib\\learn\\python\\learn\\datasets\\mnist.py:260: maybe_download (from tensorflow.contrib.learn.python.learn.datasets.base) is deprecated and will be removed in a future version.\n",
      "Instructions for updating:\n",
      "Please write your own downloading logic.\n",
      "WARNING:tensorflow:From C:\\software\\anaconda\\envs\\new enviroment name\\lib\\site-packages\\tensorflow\\contrib\\learn\\python\\learn\\datasets\\mnist.py:262: extract_images (from tensorflow.contrib.learn.python.learn.datasets.mnist) is deprecated and will be removed in a future version.\n",
      "Instructions for updating:\n",
      "Please use tf.data to implement this functionality.\n",
      "Extracting MNIST_data/train-images-idx3-ubyte.gz\n",
      "WARNING:tensorflow:From C:\\software\\anaconda\\envs\\new enviroment name\\lib\\site-packages\\tensorflow\\contrib\\learn\\python\\learn\\datasets\\mnist.py:267: extract_labels (from tensorflow.contrib.learn.python.learn.datasets.mnist) is deprecated and will be removed in a future version.\n",
      "Instructions for updating:\n",
      "Please use tf.data to implement this functionality.\n",
      "Extracting MNIST_data/train-labels-idx1-ubyte.gz\n",
      "WARNING:tensorflow:From C:\\software\\anaconda\\envs\\new enviroment name\\lib\\site-packages\\tensorflow\\contrib\\learn\\python\\learn\\datasets\\mnist.py:110: dense_to_one_hot (from tensorflow.contrib.learn.python.learn.datasets.mnist) is deprecated and will be removed in a future version.\n",
      "Instructions for updating:\n",
      "Please use tf.one_hot on tensors.\n",
      "Extracting MNIST_data/t10k-images-idx3-ubyte.gz\n",
      "Extracting MNIST_data/t10k-labels-idx1-ubyte.gz\n",
      "WARNING:tensorflow:From C:\\software\\anaconda\\envs\\new enviroment name\\lib\\site-packages\\tensorflow\\contrib\\learn\\python\\learn\\datasets\\mnist.py:290: DataSet.__init__ (from tensorflow.contrib.learn.python.learn.datasets.mnist) is deprecated and will be removed in a future version.\n",
      "Instructions for updating:\n",
      "Please use alternatives such as official/mnist/dataset.py from tensorflow/models.\n"
     ]
    }
   ],
   "source": [
    "mnist=input_data.read_data_sets(\"MNIST_data/\",one_hot=True)"
   ]
  },
  {
   "cell_type": "markdown",
   "metadata": {},
   "source": [
    "#### 两个占位符"
   ]
  },
  {
   "cell_type": "code",
   "execution_count": 3,
   "metadata": {},
   "outputs": [],
   "source": [
    "with tf.name_scope('input'):\n",
    "    x=tf.placeholder(tf.float32,[None,784],name='x-input')\n",
    "    y=tf.placeholder(tf.float32,[None,10],name='y-input')"
   ]
  },
  {
   "cell_type": "code",
   "execution_count": 4,
   "metadata": {},
   "outputs": [],
   "source": [
    "# 参数概要\n",
    "def variable_summaries(var):\n",
    "    with tf.name_scope('summaries'):\n",
    "        mean = tf.reduce_mean(var)\n",
    "        tf.summary.scalar('mean',mean)\n",
    "        with tf.name_scope('stddev'):\n",
    "            stddev = tf.sqrt(tf.reduce_mean(tf.square(var - mean)))\n",
    "            tf.summary.scalar('stddev',stddev)\n",
    "            tf.summary.scalar('max',tf.reduce_max(var))\n",
    "            tf.summary.scalar('min',tf.reduce_min(var))\n",
    "            tf.summary.histogram('histogram',var)"
   ]
  },
  {
   "cell_type": "markdown",
   "metadata": {},
   "source": [
    "#### 搭建神经网络"
   ]
  },
  {
   "cell_type": "code",
   "execution_count": 5,
   "metadata": {
    "scrolled": true
   },
   "outputs": [
    {
     "name": "stdout",
     "output_type": "stream",
     "text": [
      "WARNING:tensorflow:From C:\\software\\anaconda\\envs\\new enviroment name\\lib\\site-packages\\tensorflow\\python\\framework\\op_def_library.py:263: colocate_with (from tensorflow.python.framework.ops) is deprecated and will be removed in a future version.\n",
      "Instructions for updating:\n",
      "Colocations handled automatically by placer.\n"
     ]
    }
   ],
   "source": [
    "with tf.name_scope('layer'):\n",
    "    with tf.name_scope('weight'):\n",
    "        w =tf.Variable(tf.zeros([784,10]),name='weight')\n",
    "        variable_summaries(w)\n",
    "    \n",
    "    with tf.name_scope('bias'):\n",
    "        b=tf.Variable(tf.zeros([10]),name='bias')\n",
    "        variable_summaries(b)\n",
    "    \n",
    "    with tf.name_scope('softmax'):\n",
    "        prediction=tf.nn.softmax(tf.matmul(x,w)+b,name='softmax')\n",
    "        variable_summaries(prediction)"
   ]
  },
  {
   "cell_type": "markdown",
   "metadata": {},
   "source": [
    "#### Loss和梯度下降"
   ]
  },
  {
   "cell_type": "code",
   "execution_count": 6,
   "metadata": {},
   "outputs": [],
   "source": [
    "with tf.name_scope('loss'):\n",
    "    loss=tf.reduce_mean(tf.square(y-prediction))\n",
    "    tf.summary.scalar('loss',loss)\n",
    "    \n",
    "with tf.name_scope('train'):\n",
    "    train_step=tf.train.GradientDescentOptimizer(0.2).minimize(loss)"
   ]
  },
  {
   "cell_type": "markdown",
   "metadata": {},
   "source": [
    "#### 初始化变量"
   ]
  },
  {
   "cell_type": "code",
   "execution_count": 7,
   "metadata": {},
   "outputs": [],
   "source": [
    "init=tf.global_variables_initializer()"
   ]
  },
  {
   "cell_type": "markdown",
   "metadata": {},
   "source": [
    "#### 准确度"
   ]
  },
  {
   "cell_type": "code",
   "execution_count": 8,
   "metadata": {},
   "outputs": [],
   "source": [
    "with tf.name_scope('accuracy'):\n",
    "    #结果放在布尔型列表中\n",
    "    with tf.name_scope('correct_prediction'):\n",
    "        correct_prediction=tf.equal(tf.math.argmax(y,1),tf.math.argmax(prediction,1))\n",
    "        #tf.summary.histogram('accuracy/correct_prediction',correct_prediction)\n",
    "    with tf.name_scope('accuracy'):\n",
    "    #准确率\n",
    "        accuracy=tf.reduce_mean(tf.cast(correct_prediction,tf.float32))\n",
    "        tf.summary.histogram('accuracy/accuracy',accuracy)"
   ]
  },
  {
   "cell_type": "markdown",
   "metadata": {},
   "source": [
    "#### 训练的准备工作"
   ]
  },
  {
   "cell_type": "code",
   "execution_count": 9,
   "metadata": {},
   "outputs": [],
   "source": [
    "#批次大小\n",
    "batch_size=100\n",
    "\n",
    "#批次数\n",
    "n_batch=mnist.train.num_examples // batch_size\n",
    "\n",
    "#训练轮数\n",
    "n_epoch=210"
   ]
  },
  {
   "cell_type": "markdown",
   "metadata": {},
   "source": [
    "#### 训练"
   ]
  },
  {
   "cell_type": "code",
   "execution_count": 10,
   "metadata": {},
   "outputs": [
    {
     "name": "stdout",
     "output_type": "stream",
     "text": [
      "Lter 0,Testing Accuracy 0.8327\n",
      "Lter 1,Testing Accuracy 0.8704\n",
      "Lter 2,Testing Accuracy 0.8808\n",
      "Lter 3,Testing Accuracy 0.8879\n",
      "Lter 4,Testing Accuracy 0.8943\n",
      "Lter 5,Testing Accuracy 0.8971\n",
      "Lter 6,Testing Accuracy 0.8996\n",
      "Lter 7,Testing Accuracy 0.9019\n",
      "Lter 8,Testing Accuracy 0.9031\n",
      "Lter 9,Testing Accuracy 0.9051\n",
      "Lter 10,Testing Accuracy 0.9063\n",
      "Lter 11,Testing Accuracy 0.9071\n",
      "Lter 12,Testing Accuracy 0.909\n",
      "Lter 13,Testing Accuracy 0.9093\n",
      "Lter 14,Testing Accuracy 0.9106\n",
      "Lter 15,Testing Accuracy 0.9105\n",
      "Lter 16,Testing Accuracy 0.9115\n",
      "Lter 17,Testing Accuracy 0.9122\n",
      "Lter 18,Testing Accuracy 0.9135\n",
      "Lter 19,Testing Accuracy 0.9137\n",
      "Lter 20,Testing Accuracy 0.9137\n",
      "Lter 21,Testing Accuracy 0.9147\n",
      "Lter 22,Testing Accuracy 0.915\n",
      "Lter 23,Testing Accuracy 0.9144\n",
      "Lter 24,Testing Accuracy 0.9166\n",
      "Lter 25,Testing Accuracy 0.9159\n",
      "Lter 26,Testing Accuracy 0.9169\n",
      "Lter 27,Testing Accuracy 0.9177\n",
      "Lter 28,Testing Accuracy 0.9182\n",
      "Lter 29,Testing Accuracy 0.9177\n",
      "Lter 30,Testing Accuracy 0.9181\n",
      "Lter 31,Testing Accuracy 0.9179\n",
      "Lter 32,Testing Accuracy 0.9184\n",
      "Lter 33,Testing Accuracy 0.9187\n",
      "Lter 34,Testing Accuracy 0.918\n",
      "Lter 35,Testing Accuracy 0.9186\n",
      "Lter 36,Testing Accuracy 0.9189\n",
      "Lter 37,Testing Accuracy 0.9184\n",
      "Lter 38,Testing Accuracy 0.9194\n",
      "Lter 39,Testing Accuracy 0.9197\n",
      "Lter 40,Testing Accuracy 0.92\n",
      "Lter 41,Testing Accuracy 0.9209\n",
      "Lter 42,Testing Accuracy 0.9199\n",
      "Lter 43,Testing Accuracy 0.9207\n",
      "Lter 44,Testing Accuracy 0.9203\n",
      "Lter 45,Testing Accuracy 0.9211\n",
      "Lter 46,Testing Accuracy 0.921\n",
      "Lter 47,Testing Accuracy 0.9211\n",
      "Lter 48,Testing Accuracy 0.9214\n",
      "Lter 49,Testing Accuracy 0.9213\n",
      "Lter 50,Testing Accuracy 0.9212\n",
      "Lter 51,Testing Accuracy 0.9216\n",
      "Lter 52,Testing Accuracy 0.9215\n",
      "Lter 53,Testing Accuracy 0.9217\n",
      "Lter 54,Testing Accuracy 0.9217\n",
      "Lter 55,Testing Accuracy 0.9225\n",
      "Lter 56,Testing Accuracy 0.9216\n",
      "Lter 57,Testing Accuracy 0.9225\n",
      "Lter 58,Testing Accuracy 0.9225\n",
      "Lter 59,Testing Accuracy 0.9226\n",
      "Lter 60,Testing Accuracy 0.9231\n",
      "Lter 61,Testing Accuracy 0.9225\n",
      "Lter 62,Testing Accuracy 0.9232\n",
      "Lter 63,Testing Accuracy 0.9236\n",
      "Lter 64,Testing Accuracy 0.9232\n",
      "Lter 65,Testing Accuracy 0.9232\n",
      "Lter 66,Testing Accuracy 0.9236\n",
      "Lter 67,Testing Accuracy 0.9235\n",
      "Lter 68,Testing Accuracy 0.9242\n",
      "Lter 69,Testing Accuracy 0.9243\n",
      "Lter 70,Testing Accuracy 0.9239\n",
      "Lter 71,Testing Accuracy 0.9243\n",
      "Lter 72,Testing Accuracy 0.9243\n",
      "Lter 73,Testing Accuracy 0.9247\n",
      "Lter 74,Testing Accuracy 0.9245\n",
      "Lter 75,Testing Accuracy 0.9244\n",
      "Lter 76,Testing Accuracy 0.9239\n",
      "Lter 77,Testing Accuracy 0.9249\n",
      "Lter 78,Testing Accuracy 0.9249\n",
      "Lter 79,Testing Accuracy 0.9244\n",
      "Lter 80,Testing Accuracy 0.9249\n",
      "Lter 81,Testing Accuracy 0.9253\n",
      "Lter 82,Testing Accuracy 0.9254\n",
      "Lter 83,Testing Accuracy 0.9252\n",
      "Lter 84,Testing Accuracy 0.9256\n",
      "Lter 85,Testing Accuracy 0.9251\n",
      "Lter 86,Testing Accuracy 0.926\n",
      "Lter 87,Testing Accuracy 0.9249\n",
      "Lter 88,Testing Accuracy 0.9252\n",
      "Lter 89,Testing Accuracy 0.9261\n",
      "Lter 90,Testing Accuracy 0.9254\n",
      "Lter 91,Testing Accuracy 0.9261\n",
      "Lter 92,Testing Accuracy 0.9258\n",
      "Lter 93,Testing Accuracy 0.9258\n",
      "Lter 94,Testing Accuracy 0.9258\n",
      "Lter 95,Testing Accuracy 0.9256\n",
      "Lter 96,Testing Accuracy 0.9257\n",
      "Lter 97,Testing Accuracy 0.9262\n",
      "Lter 98,Testing Accuracy 0.9256\n",
      "Lter 99,Testing Accuracy 0.9263\n",
      "Lter 100,Testing Accuracy 0.9261\n",
      "Lter 101,Testing Accuracy 0.9264\n",
      "Lter 102,Testing Accuracy 0.9262\n",
      "Lter 103,Testing Accuracy 0.9264\n",
      "Lter 104,Testing Accuracy 0.9261\n",
      "Lter 105,Testing Accuracy 0.9264\n",
      "Lter 106,Testing Accuracy 0.9265\n",
      "Lter 107,Testing Accuracy 0.9266\n",
      "Lter 108,Testing Accuracy 0.9264\n",
      "Lter 109,Testing Accuracy 0.9272\n",
      "Lter 110,Testing Accuracy 0.9273\n",
      "Lter 111,Testing Accuracy 0.9264\n",
      "Lter 112,Testing Accuracy 0.9267\n",
      "Lter 113,Testing Accuracy 0.9277\n",
      "Lter 114,Testing Accuracy 0.9268\n",
      "Lter 115,Testing Accuracy 0.9275\n",
      "Lter 116,Testing Accuracy 0.9271\n",
      "Lter 117,Testing Accuracy 0.9271\n",
      "Lter 118,Testing Accuracy 0.9281\n",
      "Lter 119,Testing Accuracy 0.9271\n",
      "Lter 120,Testing Accuracy 0.9276\n",
      "Lter 121,Testing Accuracy 0.9277\n",
      "Lter 122,Testing Accuracy 0.9271\n",
      "Lter 123,Testing Accuracy 0.9271\n",
      "Lter 124,Testing Accuracy 0.9267\n",
      "Lter 125,Testing Accuracy 0.9282\n",
      "Lter 126,Testing Accuracy 0.9274\n",
      "Lter 127,Testing Accuracy 0.9276\n",
      "Lter 128,Testing Accuracy 0.9271\n",
      "Lter 129,Testing Accuracy 0.9272\n",
      "Lter 130,Testing Accuracy 0.9276\n",
      "Lter 131,Testing Accuracy 0.927\n",
      "Lter 132,Testing Accuracy 0.9273\n",
      "Lter 133,Testing Accuracy 0.9282\n",
      "Lter 134,Testing Accuracy 0.9275\n",
      "Lter 135,Testing Accuracy 0.9274\n",
      "Lter 136,Testing Accuracy 0.9279\n",
      "Lter 137,Testing Accuracy 0.928\n",
      "Lter 138,Testing Accuracy 0.928\n",
      "Lter 139,Testing Accuracy 0.9282\n",
      "Lter 140,Testing Accuracy 0.9279\n",
      "Lter 141,Testing Accuracy 0.9283\n",
      "Lter 142,Testing Accuracy 0.928\n",
      "Lter 143,Testing Accuracy 0.9279\n",
      "Lter 144,Testing Accuracy 0.9283\n",
      "Lter 145,Testing Accuracy 0.9286\n",
      "Lter 146,Testing Accuracy 0.928\n",
      "Lter 147,Testing Accuracy 0.9281\n",
      "Lter 148,Testing Accuracy 0.9284\n",
      "Lter 149,Testing Accuracy 0.9281\n",
      "Lter 150,Testing Accuracy 0.9282\n",
      "Lter 151,Testing Accuracy 0.9283\n",
      "Lter 152,Testing Accuracy 0.9278\n",
      "Lter 153,Testing Accuracy 0.9288\n",
      "Lter 154,Testing Accuracy 0.929\n",
      "Lter 155,Testing Accuracy 0.9289\n",
      "Lter 156,Testing Accuracy 0.9288\n",
      "Lter 157,Testing Accuracy 0.9283\n",
      "Lter 158,Testing Accuracy 0.9288\n",
      "Lter 159,Testing Accuracy 0.929\n",
      "Lter 160,Testing Accuracy 0.9288\n",
      "Lter 161,Testing Accuracy 0.929\n",
      "Lter 162,Testing Accuracy 0.9291\n",
      "Lter 163,Testing Accuracy 0.9285\n",
      "Lter 164,Testing Accuracy 0.9288\n",
      "Lter 165,Testing Accuracy 0.9289\n",
      "Lter 166,Testing Accuracy 0.9287\n",
      "Lter 167,Testing Accuracy 0.9289\n",
      "Lter 168,Testing Accuracy 0.9292\n",
      "Lter 169,Testing Accuracy 0.9291\n",
      "Lter 170,Testing Accuracy 0.9291\n",
      "Lter 171,Testing Accuracy 0.9289\n",
      "Lter 172,Testing Accuracy 0.9289\n",
      "Lter 173,Testing Accuracy 0.9289\n",
      "Lter 174,Testing Accuracy 0.9286\n",
      "Lter 175,Testing Accuracy 0.929\n",
      "Lter 176,Testing Accuracy 0.9286\n",
      "Lter 177,Testing Accuracy 0.9288\n",
      "Lter 178,Testing Accuracy 0.929\n",
      "Lter 179,Testing Accuracy 0.9286\n",
      "Lter 180,Testing Accuracy 0.9289\n",
      "Lter 181,Testing Accuracy 0.9288\n",
      "Lter 182,Testing Accuracy 0.9289\n",
      "Lter 183,Testing Accuracy 0.929\n",
      "Lter 184,Testing Accuracy 0.9292\n",
      "Lter 185,Testing Accuracy 0.9295\n",
      "Lter 186,Testing Accuracy 0.9298\n",
      "Lter 187,Testing Accuracy 0.9288\n",
      "Lter 188,Testing Accuracy 0.9289\n",
      "Lter 189,Testing Accuracy 0.9292\n",
      "Lter 190,Testing Accuracy 0.9295\n",
      "Lter 191,Testing Accuracy 0.9291\n",
      "Lter 192,Testing Accuracy 0.9289\n",
      "Lter 193,Testing Accuracy 0.9288\n",
      "Lter 194,Testing Accuracy 0.929\n",
      "Lter 195,Testing Accuracy 0.9295\n",
      "Lter 196,Testing Accuracy 0.9289\n",
      "Lter 197,Testing Accuracy 0.9287\n",
      "Lter 198,Testing Accuracy 0.9289\n",
      "Lter 199,Testing Accuracy 0.9291\n",
      "Lter 200,Testing Accuracy 0.9293\n",
      "Lter 201,Testing Accuracy 0.9287\n",
      "Lter 202,Testing Accuracy 0.9289\n",
      "Lter 203,Testing Accuracy 0.9293\n",
      "Lter 204,Testing Accuracy 0.9289\n",
      "Lter 205,Testing Accuracy 0.9291\n",
      "Lter 206,Testing Accuracy 0.9289\n",
      "Lter 207,Testing Accuracy 0.9291\n",
      "Lter 208,Testing Accuracy 0.9287\n",
      "Lter 209,Testing Accuracy 0.9292\n"
     ]
    }
   ],
   "source": [
    "with tf.Session() as sess:\n",
    "    sess.run(init)\n",
    "    merged = tf.summary.merge_all()\n",
    "    writer=tf.summary.FileWriter('./logs',sess.graph)\n",
    "    for epoch in range(n_epoch):\n",
    "        for batch in range(n_batch):\n",
    "            batch_xs,batch_ys=mnist.train.next_batch(batch_size)\n",
    "            summary,_=sess.run([merged,train_step],feed_dict={x:batch_xs,y:batch_ys})\n",
    "        writer.add_summary(summary,epoch)\n",
    "        acc = sess.run(accuracy,feed_dict={x:mnist.test.images,y:mnist.test.labels})\n",
    "        print(\"Lter \" + str(epoch) + \",Testing Accuracy \" + str(acc))"
   ]
  },
  {
   "cell_type": "code",
   "execution_count": null,
   "metadata": {},
   "outputs": [],
   "source": []
  }
 ],
 "metadata": {
  "kernelspec": {
   "display_name": "Python 3",
   "language": "python",
   "name": "python3"
  },
  "language_info": {
   "codemirror_mode": {
    "name": "ipython",
    "version": 3
   },
   "file_extension": ".py",
   "mimetype": "text/x-python",
   "name": "python",
   "nbconvert_exporter": "python",
   "pygments_lexer": "ipython3",
   "version": "3.6.8"
  }
 },
 "nbformat": 4,
 "nbformat_minor": 2
}
